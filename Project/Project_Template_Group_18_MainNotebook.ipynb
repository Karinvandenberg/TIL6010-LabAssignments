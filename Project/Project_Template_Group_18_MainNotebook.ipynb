{
 "cells": [
  {
   "cell_type": "markdown",
   "metadata": {},
   "source": [
    "# Project Group 18 - Main Notebook\n",
    "\n",
    "Members: Karin van den Berg, Wouter Diebels, Floris Muis, Levi Mulder, Maaike Tjeerdsma\n",
    "\n",
    "Student numbers: 4938933, 5869323, 5110394, 4712463, 4964578"
   ]
  },
  {
   "cell_type": "markdown",
   "metadata": {},
   "source": [
    "# --- Rising temperature: a strong influence on the water level heights of Dutch rivers? ---"
   ]
  },
  {
   "cell_type": "markdown",
   "metadata": {},
   "source": [
    "# Research Objective\n",
    "\n",
    "## Introduction\n",
    "Nearly 60% of the Netherlands is flood prone [Ligtvoet, 2009]. 55% of this area includes the inland area that is protected by dunes and dikes [Minnen et al., 2012]. Regarding the floods, climate change influences the safety of the Netherlands in different ways. Besides the rise of the sea level, one of the most important factors that increase the risk of floods are the increasing peak discharges of rivers [Minnen et al., 2012]. For instance, in 2021, the extreme weather conditions and the substantial waterlevels of the rivers cause the second most expensive nature disaster of that particular year [nos, 2021]. In contrast to the high-waterlevels, climate change also causes drought. Due to the low waterlevels, freight transport via inland shipping has been difficult for some time. The waterlevel in the Rhine dropped to such an extent that shipping is hampered [Parool, 2022]. The ships can carry less so as not to lie too deep which causes more pressure on the freight transport via inland shipping. If climate change more often leads to extreme waterlevels and river discharges, the risk of these incidents will rise [Klijn et al., 2010]. According to [Baede, 2001], climate change refers to the average weather in terms of the mean and its variability over a certain timespan and a certain area [Baede, 2001]. The research objective of the project is therefore to investigate the extent to which climate change, in other words changes in temperature, affect Dutch waterlevels. Our hypothesis is that the changes in temperature play a major role in influencing the waterlevels in the Netherlands. The expectation is that the rise in average temperature is expected to increase the standard deviation of the waterlevel height.\n",
    "\n",
    "## Research Question\n",
    "\n",
    "Main research question:\n",
    "\n",
    "To what extend does global temperature change influence Dutch river level heights?\n",
    "\n",
    "To answer the main question, some sub-questions have to be answered first. The following sub-questions are discussed:\n",
    "\n",
    "1. What are the river level heights in Lobith and Eijsden?\n",
    "2. What are the temperature changes in Europe between 1987 and 2022?\n",
    "3. To what extend does the standard deviation of the river level heights change per day, per month and per year?\n",
    "4. What is the pearson correlation coefficient between the standard deviation per year and month of the river level heights and the average temperature change per year?\n",
    "\n",
    "\n",
    "\n",
    "## Method\n",
    "### Data\n",
    "The data for the waterlevel heights used for this assignment was retrieved from Rijkswaterstaat. Data was available from 1980 (which was left out of further analysis) and 1987 until 2022, taken at the measuring points Eijsden and Lobith. These towns were selected because they lie on the Dutch border at the places where the Maas and the Rhine enter the Netherlands. The data gives the water level height compared to the NAP, not to the bottom of the river. This however will not be an issue, since only the variances and standard deviations will be used in this research.\n",
    "\n",
    "For the European temperatures, data from the National Centers for Environmental Information (NOAA) was used. From 1987 until August 2022, the monthly average temperature of Europe was selected. The dataset presents the anomaly (deviation from the standard) of the monthly temperature in °C, relative to the average of the base period 1910-2000.\n",
    "### Visualization\n",
    "For the visualization, an interactive plot will be made, showing the waterlevels and the average temperature, combined with a slider for the time. \n",
    "Also, a second plot will be made, plotting time against both waterlevel heights and temperature. This plot will also show the linear regressions of the temperature and the river level heights\n",
    "### Analysis\n",
    "In the hypothesis it was stated that the rise in average temperature is expected to increase the variance of the waterlevel height. The variance and the standard deviation of the waterlevel height differences are measured over the time spans of days, months and years. A Pearson’s r correlation test will be done on the temperature and the change of variance of waterlevel heights.\n"
   ]
  },
  {
   "cell_type": "markdown",
   "metadata": {},
   "source": [
    "# Contribution Statement"
   ]
  },
  {
   "cell_type": "markdown",
   "metadata": {},
   "source": [
    "**Karin van den Berg**: Requesting and downloading temperature data, coding standard deviation of waterlevel heights per day, year and month, writing conclusion\n",
    "\n",
    "**Wouter Diebels**: Writing introduction, plotting data temperature and waterlevel height, description of the figures\n",
    "\n",
    "**Floris Muis**: Cleaning waterlevel height data, implementation of comments on code, splitting notebook into main and separate notebook\n",
    "\n",
    "**Levi Mulder**: Cleaning temperature data, plotting data temperature and waterlevel height, coding pearson correlation\n",
    "\n",
    "**Maaike Tjeerdsma**: Writing methods, data visualisation and making the contributions of each member compatible with one another, coding standard deviation of waterlevel heights per month\n"
   ]
  },
  {
   "cell_type": "markdown",
   "metadata": {},
   "source": [
    "# Literature"
   ]
  },
  {
   "cell_type": "markdown",
   "metadata": {},
   "source": [
    "- [nos, 2021] (2021). Overstromingen in limburg en buurlanden op één na duurste natuurramp van 2021.\n",
    "- [Baede, 2001] Baede, A. P. (2001). The climate system: an overview. Climate change 2001: the scientific basis, pages 38–47.\n",
    "- [Klijn et al., 2010] Klijn, F., Kwadijk, J., de Bruijn, K., and Hunink, J. (2010). Overstromingsrisico’s en droogterisico’s in een veranderend klimaat: verkenning van wegen naar een klimaatveranderingsbestendig Nederland. Deltares Delft.\n",
    "- [Ligtvoet, 2009] Ligtvoet, W. (2009). Roadmap for a climate-proof netherlands; wegen naar een klimaatbestendig nederland.\n",
    "- [Minnen et al., 2012] Minnen, J. V., Ligtvoet, W., Bree, L. v., Hollander, G. d., Visser, H., Schrier, G., Bessembinder, J., van Oldenborgh, G., Prozny, T., Sluijter, R., et al. (2012). Effecten van klimaatverandering in nederland: 2012. Beleidsstudies, pages 1–125.\n",
    "- [Obilor & Amadi, 2018] Obilor, E.I., Amadi, E.C. (2018). Test for Significance of Pearson's Correlation Coefficient. International Journal of Innovative Mathematics, Statistics & Energy Policies, pages 11-23.\n",
    "- [Parool, 2022] Parool, H. (2022). Dalend waterpeil in de Rijn geeft problemen voor goederenvervoer binnenvaart — parool.nl. https://www.parool.nl/nederland/dalend-waterpeil-in-de-rijn-geeft-problemen-voor-goederenvervoer-binnenvaart b670f116/. [Accessed 13-Oct-2022].\n"
   ]
  },
  {
   "cell_type": "markdown",
   "metadata": {},
   "source": [
    "# Results"
   ]
  },
  {
   "cell_type": "code",
   "execution_count": 1,
   "metadata": {},
   "outputs": [],
   "source": [
    "from IPython.display import IFrame"
   ]
  },
  {
   "cell_type": "markdown",
   "metadata": {},
   "source": [
    "## Visualisations"
   ]
  },
  {
   "cell_type": "markdown",
   "metadata": {},
   "source": [
    "To answer sub-question 1, the measured river level heights in Lobith and Eijsden are shown in the graphs below. The heights are measured compared to NAP (Normaal Amsterdams Peil), not the heights compared to the bottom of the river. With the slider it is made possible to take a quick look at different timeframes."
   ]
  },
  {
   "cell_type": "code",
   "execution_count": 2,
   "metadata": {},
   "outputs": [
    {
     "data": {
      "text/html": [
       "\n",
       "        <iframe\n",
       "            width=\"1000\"\n",
       "            height=\"500\"\n",
       "            src=\"Figures/graph1.html\"\n",
       "            frameborder=\"0\"\n",
       "            allowfullscreen\n",
       "            \n",
       "        ></iframe>\n",
       "        "
      ],
      "text/plain": [
       "<IPython.lib.display.IFrame at 0x25161083448>"
      ]
     },
     "execution_count": 2,
     "metadata": {},
     "output_type": "execute_result"
    }
   ],
   "source": [
    "IFrame(src='Figures/graph1.html', width=1000, height=500)"
   ]
  },
  {
   "cell_type": "code",
   "execution_count": 3,
   "metadata": {},
   "outputs": [
    {
     "data": {
      "text/html": [
       "\n",
       "        <iframe\n",
       "            width=\"1000\"\n",
       "            height=\"500\"\n",
       "            src=\"Figures/graph2.html\"\n",
       "            frameborder=\"0\"\n",
       "            allowfullscreen\n",
       "            \n",
       "        ></iframe>\n",
       "        "
      ],
      "text/plain": [
       "<IPython.lib.display.IFrame at 0x251610b4088>"
      ]
     },
     "execution_count": 3,
     "metadata": {},
     "output_type": "execute_result"
    }
   ],
   "source": [
    "IFrame(src='Figures/graph2.html', width=1000, height=500)"
   ]
  },
  {
   "cell_type": "markdown",
   "metadata": {},
   "source": [
    "Sub-question 2 is answered by plotting the anomalies of temperature in Europe. The definition of the anomalies is discussed in the Methods section. From the figure it can be seen that the change in temperature increases over time."
   ]
  },
  {
   "cell_type": "code",
   "execution_count": 4,
   "metadata": {},
   "outputs": [
    {
     "data": {
      "text/html": [
       "\n",
       "        <iframe\n",
       "            width=\"1000\"\n",
       "            height=\"500\"\n",
       "            src=\"Figures/graph3.html\"\n",
       "            frameborder=\"0\"\n",
       "            allowfullscreen\n",
       "            \n",
       "        ></iframe>\n",
       "        "
      ],
      "text/plain": [
       "<IPython.lib.display.IFrame at 0x251610b4108>"
      ]
     },
     "execution_count": 4,
     "metadata": {},
     "output_type": "execute_result"
    }
   ],
   "source": [
    "IFrame(src='Figures/graph3.html', width=1000, height=500)"
   ]
  },
  {
   "cell_type": "markdown",
   "metadata": {},
   "source": [
    "## Comparing River levels with temperature anomalies in one graph\n",
    "To compare the correlation between the river level heights and the changes in temperature, the two datasets are merged in one graph to get more insights in the correlation of these two concepts. The figures for both locations are shown below. On the x-axis the corresponding timescale, on the left y-axis the water level and on the right y-axis the temperature anomalies are shown. The fist figure is based on the data for Lobith and the second figure is based on the data for Eijsden."
   ]
  },
  {
   "cell_type": "code",
   "execution_count": 5,
   "metadata": {},
   "outputs": [
    {
     "data": {
      "text/html": [
       "\n",
       "        <iframe\n",
       "            width=\"1000\"\n",
       "            height=\"500\"\n",
       "            src=\"Figures/graph11.html\"\n",
       "            frameborder=\"0\"\n",
       "            allowfullscreen\n",
       "            \n",
       "        ></iframe>\n",
       "        "
      ],
      "text/plain": [
       "<IPython.lib.display.IFrame at 0x251610b5fc8>"
      ]
     },
     "execution_count": 5,
     "metadata": {},
     "output_type": "execute_result"
    }
   ],
   "source": [
    "IFrame(src='Figures/graph11.html', width=1000, height=500)"
   ]
  },
  {
   "cell_type": "code",
   "execution_count": 6,
   "metadata": {},
   "outputs": [
    {
     "data": {
      "text/html": [
       "\n",
       "        <iframe\n",
       "            width=\"1000\"\n",
       "            height=\"500\"\n",
       "            src=\"Figures/graph13.html\"\n",
       "            frameborder=\"0\"\n",
       "            allowfullscreen\n",
       "            \n",
       "        ></iframe>\n",
       "        "
      ],
      "text/plain": [
       "<IPython.lib.display.IFrame at 0x251610b9088>"
      ]
     },
     "execution_count": 6,
     "metadata": {},
     "output_type": "execute_result"
    }
   ],
   "source": [
    "IFrame(src='Figures/graph13.html', width=1000, height=500)"
   ]
  },
  {
   "cell_type": "markdown",
   "metadata": {},
   "source": [
    "From these two figures above, we can observe some correlation between temperature change and differet river levels. However, it is not possible to make any reliable conclusions about the correlation between the change in river levels and the change in temperature. Since we have the temperature anomalies, we first should determine what the standard deviation of the waterlevel heights is to make any reliable conclusions. This is done in the next section. "
   ]
  },
  {
   "cell_type": "markdown",
   "metadata": {},
   "source": [
    "## Standard deviation waterlevel heights\n",
    "To answer sub-question 3, the standard deviation of the waterlevel heights relative to the mean is shown in the figures below. To compute this, first the variance of both the graphs is calculated. These calculations and the results can be found in the data notebook. First the standard deviations per day are shown. Thereafter the standard deviations per month are plotted. Lastly, the standard deviations per year are shown\n",
    "### Deviation from the mean per day"
   ]
  },
  {
   "cell_type": "code",
   "execution_count": 7,
   "metadata": {
    "scrolled": false
   },
   "outputs": [
    {
     "data": {
      "text/html": [
       "\n",
       "        <iframe\n",
       "            width=\"1000\"\n",
       "            height=\"500\"\n",
       "            src=\"Figures/graph6.html\"\n",
       "            frameborder=\"0\"\n",
       "            allowfullscreen\n",
       "            \n",
       "        ></iframe>\n",
       "        "
      ],
      "text/plain": [
       "<IPython.lib.display.IFrame at 0x251610b9f48>"
      ]
     },
     "execution_count": 7,
     "metadata": {},
     "output_type": "execute_result"
    }
   ],
   "source": [
    "IFrame(src='Figures/graph6.html', width=1000, height=500)"
   ]
  },
  {
   "cell_type": "code",
   "execution_count": 8,
   "metadata": {
    "scrolled": true
   },
   "outputs": [
    {
     "data": {
      "text/html": [
       "\n",
       "        <iframe\n",
       "            width=\"1000\"\n",
       "            height=\"500\"\n",
       "            src=\"Figures/graph7.html\"\n",
       "            frameborder=\"0\"\n",
       "            allowfullscreen\n",
       "            \n",
       "        ></iframe>\n",
       "        "
      ],
      "text/plain": [
       "<IPython.lib.display.IFrame at 0x251610bae88>"
      ]
     },
     "execution_count": 8,
     "metadata": {},
     "output_type": "execute_result"
    }
   ],
   "source": [
    "IFrame(src='Figures/graph7.html', width=1000, height=500)"
   ]
  },
  {
   "cell_type": "markdown",
   "metadata": {},
   "source": [
    "In the two figures above, the standard deviation per day is plotted for both locations. Using the slider and the buttons you are able to easy determine the standard devation of a specific day. "
   ]
  },
  {
   "cell_type": "markdown",
   "metadata": {},
   "source": [
    "### Standard deviation per month"
   ]
  },
  {
   "cell_type": "markdown",
   "metadata": {},
   "source": [
    "In the figures below the standard deviation per month in Eijsden and Lobith was plotted. A trendline was drawn between these points to see if the standard deviation decreases or increases over time."
   ]
  },
  {
   "cell_type": "code",
   "execution_count": 9,
   "metadata": {},
   "outputs": [
    {
     "data": {
      "text/html": [
       "\n",
       "        <iframe\n",
       "            width=\"1000\"\n",
       "            height=\"500\"\n",
       "            src=\"Figures/graph16.html\"\n",
       "            frameborder=\"0\"\n",
       "            allowfullscreen\n",
       "            \n",
       "        ></iframe>\n",
       "        "
      ],
      "text/plain": [
       "<IPython.lib.display.IFrame at 0x251610be108>"
      ]
     },
     "execution_count": 9,
     "metadata": {},
     "output_type": "execute_result"
    }
   ],
   "source": [
    "IFrame(src='Figures/graph16.html', width=1000, height=500)\n"
   ]
  },
  {
   "cell_type": "code",
   "execution_count": 11,
   "metadata": {},
   "outputs": [
    {
     "data": {
      "text/html": [
       "\n",
       "        <iframe\n",
       "            width=\"1000\"\n",
       "            height=\"500\"\n",
       "            src=\"Figures/graph17.html\"\n",
       "            frameborder=\"0\"\n",
       "            allowfullscreen\n",
       "            \n",
       "        ></iframe>\n",
       "        "
      ],
      "text/plain": [
       "<IPython.lib.display.IFrame at 0x251610a7888>"
      ]
     },
     "execution_count": 11,
     "metadata": {},
     "output_type": "execute_result"
    }
   ],
   "source": [
    "IFrame(src='Figures/graph17.html', width=1000, height=500)"
   ]
  },
  {
   "cell_type": "markdown",
   "metadata": {},
   "source": [
    "As we can see the standard deviation per month for riverheights in Eijsden decreases over time."
   ]
  },
  {
   "cell_type": "code",
   "execution_count": 15,
   "metadata": {},
   "outputs": [
    {
     "data": {
      "text/html": [
       "\n",
       "        <iframe\n",
       "            width=\"1000\"\n",
       "            height=\"500\"\n",
       "            src=\"Figures/graph18.html\"\n",
       "            frameborder=\"0\"\n",
       "            allowfullscreen\n",
       "            \n",
       "        ></iframe>\n",
       "        "
      ],
      "text/plain": [
       "<IPython.lib.display.IFrame at 0x251610c4ec8>"
      ]
     },
     "execution_count": 15,
     "metadata": {},
     "output_type": "execute_result"
    }
   ],
   "source": [
    "IFrame(src='Figures/graph18.html', width=1000, height=500)"
   ]
  },
  {
   "cell_type": "code",
   "execution_count": 22,
   "metadata": {},
   "outputs": [
    {
     "data": {
      "text/html": [
       "\n",
       "        <iframe\n",
       "            width=\"1000\"\n",
       "            height=\"500\"\n",
       "            src=\"Figures/graph30.html\"\n",
       "            frameborder=\"0\"\n",
       "            allowfullscreen\n",
       "            \n",
       "        ></iframe>\n",
       "        "
      ],
      "text/plain": [
       "<IPython.lib.display.IFrame at 0x251610be408>"
      ]
     },
     "execution_count": 22,
     "metadata": {},
     "output_type": "execute_result"
    }
   ],
   "source": [
    "IFrame(src='Figures/graph30.html', width=1000, height=500)"
   ]
  },
  {
   "cell_type": "markdown",
   "metadata": {},
   "source": [
    "As we can see the standard deviation per month for riverheights in Lobith also  decreases over time."
   ]
  },
  {
   "cell_type": "markdown",
   "metadata": {},
   "source": [
    "#### Standard deviation of river level correlated with the average anomalies of the temperature (pearson correlation) per month"
   ]
  },
  {
   "cell_type": "code",
   "execution_count": 23,
   "metadata": {},
   "outputs": [
    {
     "data": {
      "text/html": [
       "\n",
       "        <iframe\n",
       "            width=\"1000\"\n",
       "            height=\"500\"\n",
       "            src=\"Figures/graph19.html\"\n",
       "            frameborder=\"0\"\n",
       "            allowfullscreen\n",
       "            \n",
       "        ></iframe>\n",
       "        "
      ],
      "text/plain": [
       "<IPython.lib.display.IFrame at 0x251610bae08>"
      ]
     },
     "execution_count": 23,
     "metadata": {},
     "output_type": "execute_result"
    }
   ],
   "source": [
    "IFrame(src='Figures/graph19.html', width=1000, height=500)"
   ]
  },
  {
   "cell_type": "code",
   "execution_count": 24,
   "metadata": {},
   "outputs": [
    {
     "data": {
      "text/html": [
       "\n",
       "        <iframe\n",
       "            width=\"1000\"\n",
       "            height=\"500\"\n",
       "            src=\"Figures/graph20.html\"\n",
       "            frameborder=\"0\"\n",
       "            allowfullscreen\n",
       "            \n",
       "        ></iframe>\n",
       "        "
      ],
      "text/plain": [
       "<IPython.lib.display.IFrame at 0x251610b9888>"
      ]
     },
     "execution_count": 24,
     "metadata": {},
     "output_type": "execute_result"
    }
   ],
   "source": [
    "IFrame(src='Figures/graph20.html', width=1000, height=500)"
   ]
  },
  {
   "cell_type": "markdown",
   "metadata": {},
   "source": [
    "From the two figures above, the pearson correlation coefficient can be calculated:\n",
    "- The pearson correlation coefficient between the standard deviation per month of the river level heights in Lobith and the temperature anomalies is: -0.05250968513694182\n",
    "- The pearson correlation coefficient between the standard deviation per month of the river level heights in Eijsden and the temperature anomalies is: 0.04826454945482567"
   ]
  },
  {
   "cell_type": "markdown",
   "metadata": {},
   "source": [
    "\n",
    "### Standard deviation per year"
   ]
  },
  {
   "cell_type": "code",
   "execution_count": 26,
   "metadata": {
    "scrolled": true
   },
   "outputs": [
    {
     "data": {
      "text/html": [
       "\n",
       "        <iframe\n",
       "            width=\"1000\"\n",
       "            height=\"500\"\n",
       "            src=\"Figures/graph8.html\"\n",
       "            frameborder=\"0\"\n",
       "            allowfullscreen\n",
       "            \n",
       "        ></iframe>\n",
       "        "
      ],
      "text/plain": [
       "<IPython.lib.display.IFrame at 0x251610b48c8>"
      ]
     },
     "execution_count": 26,
     "metadata": {},
     "output_type": "execute_result"
    }
   ],
   "source": [
    "IFrame(src='Figures/graph8.html', width=1000, height=500)"
   ]
  },
  {
   "cell_type": "code",
   "execution_count": 27,
   "metadata": {
    "scrolled": true
   },
   "outputs": [
    {
     "data": {
      "text/html": [
       "\n",
       "        <iframe\n",
       "            width=\"1000\"\n",
       "            height=\"500\"\n",
       "            src=\"Figures/graph9.html\"\n",
       "            frameborder=\"0\"\n",
       "            allowfullscreen\n",
       "            \n",
       "        ></iframe>\n",
       "        "
      ],
      "text/plain": [
       "<IPython.lib.display.IFrame at 0x251610b4288>"
      ]
     },
     "execution_count": 27,
     "metadata": {},
     "output_type": "execute_result"
    }
   ],
   "source": [
    "IFrame(src='Figures/graph9.html', width=1000, height=500)"
   ]
  },
  {
   "cell_type": "markdown",
   "metadata": {},
   "source": [
    "In the two figures above, the standard deviation per year is plotted for both locations. In both figures the trendline is also plotted. According to the descending trendlines, it can be concluded that for both locations, the standard deviation decreases.  "
   ]
  },
  {
   "cell_type": "markdown",
   "metadata": {},
   "source": [
    "#### Standard deviation of river level correlated with the average anomalies of the temperature (pearson correlation) per year\n",
    "To answer sub-question 4, the standard deviation of the river levels correlated with the average anomalies of the temperature are plotted in the figures below. This correlation is also known as the pearson correlation. "
   ]
  },
  {
   "cell_type": "code",
   "execution_count": 28,
   "metadata": {},
   "outputs": [
    {
     "data": {
      "text/html": [
       "\n",
       "        <iframe\n",
       "            width=\"1000\"\n",
       "            height=\"500\"\n",
       "            src=\"Figures/graph10.html\"\n",
       "            frameborder=\"0\"\n",
       "            allowfullscreen\n",
       "            \n",
       "        ></iframe>\n",
       "        "
      ],
      "text/plain": [
       "<IPython.lib.display.IFrame at 0x25161083fc8>"
      ]
     },
     "execution_count": 28,
     "metadata": {},
     "output_type": "execute_result"
    }
   ],
   "source": [
    "IFrame(src='Figures/graph10.html', width=1000, height=500)\n",
    "\n"
   ]
  },
  {
   "cell_type": "markdown",
   "metadata": {},
   "source": [
    "From the figure above, the pearson correlation coefficient can be calculated. The pearson correlation coefficient between the standard deviation per year of the river level heights in Lobith and the temperature anomalies: -0.1505277625352353"
   ]
  },
  {
   "cell_type": "code",
   "execution_count": 29,
   "metadata": {},
   "outputs": [
    {
     "data": {
      "text/html": [
       "\n",
       "        <iframe\n",
       "            width=\"1000\"\n",
       "            height=\"500\"\n",
       "            src=\"Figures/graph12.html\"\n",
       "            frameborder=\"0\"\n",
       "            allowfullscreen\n",
       "            \n",
       "        ></iframe>\n",
       "        "
      ],
      "text/plain": [
       "<IPython.lib.display.IFrame at 0x251610a7908>"
      ]
     },
     "execution_count": 29,
     "metadata": {},
     "output_type": "execute_result"
    }
   ],
   "source": [
    "IFrame(src='Figures/graph12.html', width=1000, height=500)"
   ]
  },
  {
   "cell_type": "markdown",
   "metadata": {},
   "source": [
    "From the figure above, the pearson correlation coefficient can be calculated. The pearson correlation coefficient between the standard deviation per year of the river level heights in Eijsden and the temperature anomalies is: -0.3111443926833709"
   ]
  },
  {
   "cell_type": "markdown",
   "metadata": {},
   "source": [
    "## Conclusion\n",
    "\n",
    "It is now time to answer the research question: To what extend does global temperature change influence Dutch river level heights?\n",
    "\n",
    "To answer the main question, some sub-questions have to be answered first. The following sub-questions are discussed:\n",
    "\n",
    "1. What are the river level heights in Lobith and Eijsden?\n",
    "As seen in the figures in the vizualisation section, the river level hights in Lobith vary between 700 and 1700 meters above NAP. The river level hights in Eijsden vary between 4400 and 5100 meters above NAP\n",
    "2. What are the temperature changes in Europe between 1987 and 2022?\n",
    "The anomalies of the temperature vary between -4 and 4 degrees with respect to the mean. Over time the anomalies are almost always above 0 degrees, so the temperature is going up. \n",
    "3. To what extend does the standard deviation of the river level heights change per day, per month and per year?\n",
    "The standard deviation of the river level heights per month and per year decreases as the time goes on. \n",
    "4. What is the pearson correlation coefficient between the standard deviation per year and monthe of the river level heights and the average temperature change per year?\n",
    "From the two figures above, the pearson correlation coefficient can be calculated:\n",
    "- The pearson correlation coefficient between the standard deviation per month of the river level heights in Lobith and the temperature anomalies is: -0.05250968513694182\n",
    "- The pearson correlation coefficient between the standard deviation per year of the river level heights in Lobith and the temperature anomalies is-0.1505277625352353\n",
    "- The pearson correlation coefficient between the standard deviation per month of the river level heights in Eijsden and the temperature anomalies is: 0.04826454945482567\n",
    "- The pearson correlation coefficient between the standard deviation per year of the river level heights in Eijsden and the temperature anomalies -0.3111443926833709\n",
    "A correlation coefficient under 0.4 whether negative or positive is said to be low [Obilor & Amadi, 2018]. This means that there seems to be little to no correlation between the changing temperature and the standard deviation of the river level hights in both Eijsden and Lobith. \n",
    "\n",
    "So to what extend does global temperature change influence Dutch river level heights? Our hypothesis stated that the changes in temperature play a major role in influencing the waterlevels in the Netherlands. The expectation is that the rise in average temperature is expected to increase the standard deviation of the waterlevel height. By analyzing our subquestions we can state that our results did not match with our hypothesis. Firstly we saw in subquestion 3 that the standard deviation of the river level heights decreased instead of increased. Secondly we expected the changes in temperature to influence the river levels in the Netherlands. Subquestion 4 showed that the Pearson correlation was alway between 0 and 0.4. This means there is little to no correlation between changes in temperature and river level heights instead of the expectation that changes in temperature play a major role in influencing the waterlevels in the Netherlands. So it seems that global temperature change barely influences the Dutch river level heights. \n",
    "\n",
    "\n",
    "follow-up research could look at measures that may have been implemented before that cause the lack of change in standard deviation of river level heights. It can also look at the effects of temperature change on river level heights in different countries. "
   ]
  }
 ],
 "metadata": {
  "kernelspec": {
   "display_name": "Python 3 (ipykernel)",
   "language": "python",
   "name": "python3"
  },
  "language_info": {
   "codemirror_mode": {
    "name": "ipython",
    "version": 3
   },
   "file_extension": ".py",
   "mimetype": "text/x-python",
   "name": "python",
   "nbconvert_exporter": "python",
   "pygments_lexer": "ipython3",
   "version": "3.7.13"
  },
  "vscode": {
   "interpreter": {
    "hash": "45a3d6bb3bff1b59f77f6c7a7ae49263a6a0649644f21f22aa228ce2fb24b849"
   }
  }
 },
 "nbformat": 4,
 "nbformat_minor": 2
}
