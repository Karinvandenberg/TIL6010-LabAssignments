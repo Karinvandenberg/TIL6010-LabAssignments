{
 "cells": [
  {
   "cell_type": "code",
   "execution_count": null,
   "metadata": {},
   "outputs": [],
   "source": []
  },
  {
   "cell_type": "markdown",
   "metadata": {},
   "source": [
    "Hello world"
   ]
  }
 ],
 "metadata": {
  "kernelspec": {
   "display_name": "Python 3.9.4 ('TIL6022')",
   "language": "python",
   "name": "python3"
  },
  "language_info": {
   "name": "python",
   "version": "3.9.4"
  },
  "orig_nbformat": 4,
  "vscode": {
   "interpreter": {
    "hash": "45a3d6bb3bff1b59f77f6c7a7ae49263a6a0649644f21f22aa228ce2fb24b849"
   }
  }
 },
 "nbformat": 4,
 "nbformat_minor": 2
}
