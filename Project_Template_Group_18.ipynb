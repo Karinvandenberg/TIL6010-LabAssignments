{
 "cells": [
  {
   "cell_type": "markdown",
   "metadata": {},
   "source": [
    "# Project Group 18\n",
    "\n",
    "Members: Karin van den Berg, Wouter Diebels, Floris Muis, Levi Mulder, Maaike Tjeerdsma\n",
    "\n",
    "Student numbers: 4938933, 5869323, 5110394, 4712463, 4964578"
   ]
  },
  {
   "cell_type": "markdown",
   "metadata": {},
   "source": [
    "# Research Objective\n",
    "\n",
    "## Introduction\n",
    "Nearly 60% of the Netherlands is flood prone [Ligtvoet, 2009]. 55% of this area includes the inland area that is protected by dunes and dikes [Minnen et al., 2012]. Regarding the floods, climate change influences the safety of the Netherlands in different ways. Besides the rise of the sea level, one of the most important factors that increase the risk of floods are the increasing peak discharges of rivers [Minnen et al., 2012]. For instance, in 2021, the extreme weather conditions and the substantial waterlevels of the rivers cause the second most expensive nature disaster of that particular year [nos, 2021]. In contrast to the high-waterlevels, climate change also causes drought. Due to the low waterlevels, freight transport via inland shipping has been difficult for some time. The waterlevel in the Rhine dropped to such an extent that shipping is hampered [Parool, 2022]. The ships can carry less so as not to lie too deep which causes more pressure on the freight transport via inland shipping. If climate change more often leads to extreme waterlevels and river discharges, the risk of these incidents will rise [Klijn et al., 2010]. According to [Baede, 2001], climate change refers to the average weather in terms of the mean and its variability over a certain timespan and a certain area [Baede, 2001]. The research objective of the project is therefore to investigate the extent to which climate change, in other words changes in temperature, affect Dutch waterlevels. Our hypothesis is that the changes in temperature play a major role in influencing the waterlevels in the Netherlands.\n",
    "\n",
    "## Research Question\n",
    "To what extend does global temperature change influence Dutch river waterlevel heights?\n",
    "\n",
    "## Method\n",
    "### Data\n",
    "The data for the waterlevel heights used for this assignment was retrieved from Rijkswaterstaat. Data was available from 1980 (which was left out of further analysis) and 1987 until 2022, taken at the measuring points Eijsden and Lobith. These towns were selected because they lie on the Dutch border at the places where the Maas and the Rhine enter the Netherlands.\n",
    "For the European temperatures, data from the National Centers for Environmental Information (NOAA) was used. From 1987 until August 2022, the monthly average temperature of Europe was selected. The dataset presents the anomaly of the monthly temperature in °C, relative to the average of the base period 1910-2000.\n",
    "### Visualization\n",
    "For the visualization, an interactive plot will be made, showing the waterlevels and the average temperature, combined with a slider for the time. \n",
    "Also, a second plot will be made, plotting time against both waterlevel heights and temperature. This plot will also show the linear regressions of the temperature and the river level heights\n",
    "### Analysis\n",
    "In the hypothesis it was stated that the rise in average temperature is expected to increase the variance of the waterlevel height. The variance of the waterlevel height differences are measured over the time spans of weeks, months and years. A Pearson’s r correlation test will be done on the temperature and the change of variance of waterlevel heights.\n"
   ]
  },
  {
   "cell_type": "markdown",
   "metadata": {},
   "source": [
    "# Contribution Statement\n",
    "\n",
    "*Be specific. Some of the tasks can be coding (expect everyone to do this), background research, conceptualisation, visualisation, data analysis, data modelling*"
   ]
  },
  {
   "cell_type": "markdown",
   "metadata": {},
   "source": [
    "**Karin van den Berg**: Requesting and downloading temperature data, calculating variance\n",
    "\n",
    "**Wouter Diebels**: Writing introduction, plotting data temperature and waterlevel height\n",
    "\n",
    "**Floris Muis**: Cleaning waterlevel height data\n",
    "\n",
    "**Levi Mulder**: Cleaning temperature data, plotting data temperature and waterlevel height\n",
    "\n",
    "**Maaike Tjeerdsma**: Writing methods, implementation of text into the project template\n"
   ]
  },
  {
   "cell_type": "markdown",
   "metadata": {},
   "source": [
    "# Data Used"
   ]
  },
  {
   "cell_type": "markdown",
   "metadata": {},
   "source": [
    "- [nos, 2021] (2021). Overstromingen in limburg en buurlanden op één na duurste natuurramp van 2021.\n",
    "- [Baede, 2001] Baede, A. P. (2001). The climate system: an overview. Climate change 2001: the scientific basis, pages 38–47.\n",
    "- [Klijn et al., 2010] Klijn, F., Kwadijk, J., de Bruijn, K., and Hunink, J. (2010). Overstromingsrisico’s en droogterisico’s in een veranderend klimaat: verkenning van wegen naar een klimaatveranderingsbestendig Nederland. Deltares Delft.\n",
    "- [Ligtvoet, 2009] Ligtvoet, W. (2009). Roadmap for a climate-proof netherlands; wegen naar een klimaatbestendig nederland.\n",
    "- [Minnen et al., 2012] Minnen, J. V., Ligtvoet, W., Bree, L. v., Hollander, G. d., Visser, H., Schrier, G., Bessembinder, J., van Oldenborgh, G., Prozny, T., Sluijter, R., et al. (2012). Effecten van klimaatverandering in nederland: 2012. Beleidsstudies, pages 1–125.\n",
    "- [Parool, 2022] Parool, H. (2022). Dalend waterpeil in de Rijn geeft problemen voor goederenvervoer binnenvaart — parool.nl. https://www.parool.nl/nederland/dalend-waterpeil-in-de-rijn-geeft-problemen-voor-goederenvervoer-binnenvaart b670f116/. [Accessed 13-Oct-2022].\n"
   ]
  },
  {
   "cell_type": "markdown",
   "metadata": {},
   "source": [
    "# Data Pipeline"
   ]
  },
  {
   "cell_type": "markdown",
   "metadata": {},
   "source": []
  }
 ],
 "metadata": {
  "kernelspec": {
   "display_name": "Python 3 (ipykernel)",
   "language": "python",
   "name": "python3"
  },
  "language_info": {
   "codemirror_mode": {
    "name": "ipython",
    "version": 3
   },
   "file_extension": ".py",
   "mimetype": "text/x-python",
   "name": "python",
   "nbconvert_exporter": "python",
   "pygments_lexer": "ipython3",
   "version": "3.7.13"
  },
  "vscode": {
   "interpreter": {
    "hash": "31f2aee4e71d21fbe5cf8b01ff0e069b9275f58929596ceb00d14d90e3e16cd6"
   }
  }
 },
 "nbformat": 4,
 "nbformat_minor": 2
}
